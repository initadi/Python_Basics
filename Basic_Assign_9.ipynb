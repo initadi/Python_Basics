{
 "cells": [
  {
   "cell_type": "markdown",
   "id": "92d43024-e4bf-40d5-88f0-994402793d4e",
   "metadata": {},
   "source": [
    "1. To what does a relative path refer?"
   ]
  },
  {
   "cell_type": "markdown",
   "id": "68ee5d78-029d-4167-9780-fa7ae295afae",
   "metadata": {},
   "source": [
    "A relative path in Python is a path that describes the location of a directory relative to the entry point where you run the Python script.\n",
    "- So for example, if you need to access ~/home/projects/example-project/src/lib then the relative path is ./src/lib/ in this Python project.\n",
    "- Using relative paths simplifies the code since you don’t need to write the full absolute path in order to find a file or directory in your Python project."
   ]
  },
  {
   "cell_type": "markdown",
   "id": "6021d2f5-f3c8-4329-9a15-ad62f6ac79b0",
   "metadata": {},
   "source": [
    "2. What function is used to rename files??"
   ]
  },
  {
   "cell_type": "markdown",
   "id": "d4c179fd-23a1-4a2d-b923-9645a49445ac",
   "metadata": {},
   "source": [
    "The rename() function renames a file or directory.\n",
    "- import os\n",
    "- os.rename(current_file_name, new_file_name)"
   ]
  },
  {
   "cell_type": "markdown",
   "id": "4f5697b2-3d36-44b6-a779-5845feb41d2e",
   "metadata": {},
   "source": [
    "2. What does an absolute path start with your operating system?"
   ]
  },
  {
   "cell_type": "markdown",
   "id": "1be5c493-fdb8-4e60-8184-6cd61266c283",
   "metadata": {},
   "source": [
    "An absolute path in Python is the full path starting from the root of the operating file system up until the working directory.It always begins from the absolute start of your hard drive and describes every step you must take through the filesystem to end up at the target location.\n",
    "\n",
    "Meaning:\n",
    "An absolute path refers to the complete details needed to locate a file or folder, starting from the root element and ending with the other subdirectories. Absolute paths are used in websites and operating systems for locating files and folders."
   ]
  },
  {
   "cell_type": "markdown",
   "id": "d2782c22-c4ed-47ec-9556-9e83a3d37b60",
   "metadata": {},
   "source": [
    "3. What do the functions os.getcwd() and os.chdir() do?"
   ]
  },
  {
   "cell_type": "markdown",
   "id": "f7d7d465-7f56-4767-926d-e67786dbf4d2",
   "metadata": {},
   "source": [
    "- The os. chdir() method changes the current working directory to a specific path. \n",
    "- The current working directory can be printed using the os. getcwd() method."
   ]
  },
  {
   "cell_type": "markdown",
   "id": "c7ca2f04-8891-40d1-9eb5-13e233e90acb",
   "metadata": {},
   "source": [
    "4. What are the . and .. folders?"
   ]
  },
  {
   "cell_type": "markdown",
   "id": "53f657da-51fc-4688-996e-56d2bacb206a",
   "metadata": {},
   "source": [
    "The . folder is the current folder, and .. is the parent folder"
   ]
  },
  {
   "cell_type": "markdown",
   "id": "1a4f08bc-98b9-4805-bdda-f7cd6e0aac54",
   "metadata": {},
   "source": [
    "5. In C:\\bacon\\eggs\\spam.txt, which part is the dir name, and which part is the base name?"
   ]
  },
  {
   "cell_type": "markdown",
   "id": "34f7e639-87ac-40ec-a643-a930db6dffd8",
   "metadata": {},
   "source": [
    "C:\\bacon\\eggs is the dir name, while spam.txt is the base name."
   ]
  },
  {
   "cell_type": "markdown",
   "id": "0bc52b91-62da-40bb-9cba-4c3d33b96b65",
   "metadata": {},
   "source": [
    "6. What are the three “mode” arguments that can be passed to the open() function?"
   ]
  },
  {
   "cell_type": "markdown",
   "id": "73fcd575-4ef6-4fff-a8c1-ec2dbe560767",
   "metadata": {},
   "source": [
    "The string 'r' for read mode, 'w' for write mode, and 'a' for append mode\n",
    "- Additionally, \"x\" - Create - Creates the specified file, returns an error if the file exist"
   ]
  },
  {
   "cell_type": "markdown",
   "id": "82bdc01e-deb4-458a-a86e-3785a69b0beb",
   "metadata": {},
   "source": [
    "7. What happens if an existing file is opened in write mode?"
   ]
  },
  {
   "cell_type": "markdown",
   "id": "d9b0cbfe-03f8-42ee-96c3-2db8a6a33cd5",
   "metadata": {},
   "source": [
    "An existing file opened in write mode is erased and completely overwritten"
   ]
  },
  {
   "cell_type": "markdown",
   "id": "fa718e80-12f8-4a74-8244-ae03866deec2",
   "metadata": {},
   "source": [
    "8. How do you tell the difference between read() and readlines()?"
   ]
  },
  {
   "cell_type": "markdown",
   "id": "6ffb06ba-d32c-49a0-8265-9ea8d39f88c9",
   "metadata": {},
   "source": [
    "The read() method returns the file’s entire contents as a single string value. The readlines() method returns a list of strings, where each string is a line from the file’s contents."
   ]
  },
  {
   "cell_type": "markdown",
   "id": "6e353b01-78f1-49df-9f72-5579334ee0e6",
   "metadata": {},
   "source": [
    "9. What data structure does a shelf value resemble?"
   ]
  },
  {
   "cell_type": "markdown",
   "id": "ffe7fd3b-f599-4e92-908f-10fe71d488e4",
   "metadata": {},
   "source": [
    "A shelf value resembles a dictionary value; it has keys and values, along with keys() and values() methods that work similarly to the dictionary methods of the same names"
   ]
  },
  {
   "cell_type": "raw",
   "id": "5a5b3e3c-cf17-42b8-9c3a-0c0e48b166ab",
   "metadata": {},
   "source": [
    ">>> shelfFile = shelve.open('mydata')\n",
    ">>> list(shelfFile.keys())\n",
    "['cats']\n",
    ">>> list(shelfFile.values())\n",
    "[['Zophie', 'Pooka', 'Simon']]\n",
    ">>> shelfFile.close()"
   ]
  },
  {
   "cell_type": "code",
   "execution_count": null,
   "id": "caf136ef-4e5f-48ac-bfd1-d488fae49f9a",
   "metadata": {},
   "outputs": [],
   "source": []
  }
 ],
 "metadata": {
  "kernelspec": {
   "display_name": "Python 3 (ipykernel)",
   "language": "python",
   "name": "python3"
  },
  "language_info": {
   "codemirror_mode": {
    "name": "ipython",
    "version": 3
   },
   "file_extension": ".py",
   "mimetype": "text/x-python",
   "name": "python",
   "nbconvert_exporter": "python",
   "pygments_lexer": "ipython3",
   "version": "3.10.6"
  }
 },
 "nbformat": 4,
 "nbformat_minor": 5
}
