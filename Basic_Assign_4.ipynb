{
 "cells": [
  {
   "cell_type": "markdown",
   "id": "dc4a58d1-5d04-43f0-9b4c-a7491a7a0c96",
   "metadata": {},
   "source": [
    "1. What exactly is []?"
   ]
  },
  {
   "cell_type": "markdown",
   "id": "7bb9178a-00d9-4aa5-ba6e-d9c35d757039",
   "metadata": {},
   "source": [
    "The empty list value, which is a list value that contains no items. This is similar to how '' is the empty string value."
   ]
  },
  {
   "cell_type": "markdown",
   "id": "e8e54e96-b4a8-407d-b32f-d148b81aaad6",
   "metadata": {},
   "source": [
    "2. In a list of values stored in a variable called spam, how would you assign the value &#39;hello&#39; as the\n",
    "third value? (Assume [2, 4, 6, 8, 10] are in spam.)"
   ]
  },
  {
   "cell_type": "code",
   "execution_count": 2,
   "id": "31770afd-77cc-43e1-a754-a6e6853bbb65",
   "metadata": {},
   "outputs": [
    {
     "data": {
      "text/plain": [
       "[2, 4, 'hello', 8, 10]"
      ]
     },
     "execution_count": 2,
     "metadata": {},
     "output_type": "execute_result"
    }
   ],
   "source": [
    "# Here the index value of 2 gives us the hello at 3rd place\n",
    "# solution by changing the value in index 3\n",
    "spam = [2, 4, 6, 8, 10]\n",
    "spam[2] = 'hello'\n",
    "spam\n",
    "     "
   ]
  },
  {
   "cell_type": "markdown",
   "id": "837a6b16-51d6-413a-b9aa-b9720ba0333c",
   "metadata": {},
   "source": [
    "3. What is the value of spam[int(int(&#39;3&#39; * 2) / 11)]?"
   ]
  },
  {
   "cell_type": "code",
   "execution_count": 8,
   "id": "06015bf4-c82b-4c9a-b55b-18bf3314f443",
   "metadata": {},
   "outputs": [
    {
     "data": {
      "text/plain": [
       "4"
      ]
     },
     "execution_count": 8,
     "metadata": {},
     "output_type": "execute_result"
    }
   ],
   "source": [
    "spam = [2, 4, 6, 8, 10]\n",
    "spam[int(int((spam[3]*2)/11))]\n"
   ]
  },
  {
   "cell_type": "markdown",
   "id": "cb2f8768-24df-461c-aae3-981ccbb89ba4",
   "metadata": {},
   "source": [
    "Here we should consider the index value. Otherwise the '3' will give error"
   ]
  },
  {
   "cell_type": "code",
   "execution_count": 11,
   "id": "29ebb033-8f56-4bef-a3f5-a6a85de05480",
   "metadata": {},
   "outputs": [
    {
     "data": {
      "text/plain": [
       "'d'"
      ]
     },
     "execution_count": 11,
     "metadata": {},
     "output_type": "execute_result"
    }
   ],
   "source": [
    "spam = ['a', 'b', 'c', 'd']\n",
    "spam[int(int('3' * 2) / 11)]"
   ]
  },
  {
   "cell_type": "markdown",
   "id": "c0a6e648-c3b7-4a7c-a26f-3da77a3c38c0",
   "metadata": {},
   "source": [
    "4. What is the value of spam[-1]?"
   ]
  },
  {
   "cell_type": "code",
   "execution_count": 12,
   "id": "1dc6cb25-2a51-47de-859d-78e766f05059",
   "metadata": {},
   "outputs": [
    {
     "data": {
      "text/plain": [
       "'d'"
      ]
     },
     "execution_count": 12,
     "metadata": {},
     "output_type": "execute_result"
    }
   ],
   "source": [
    "spam = [2, 4, 6, 8, 10] \n",
    "spam[-1]\n",
    "spam = ['a', 'b', 'c', 'd']\n",
    "spam[-1]"
   ]
  },
  {
   "cell_type": "markdown",
   "id": "a1ca5e78-eb86-40e0-a6a4-10bb99982ba0",
   "metadata": {},
   "source": [
    "5. What is the value of spam[:2]?"
   ]
  },
  {
   "cell_type": "code",
   "execution_count": 13,
   "id": "85f31c12-2ac3-4d57-99c0-a5df283287d9",
   "metadata": {},
   "outputs": [
    {
     "data": {
      "text/plain": [
       "['a', 'b']"
      ]
     },
     "execution_count": 13,
     "metadata": {},
     "output_type": "execute_result"
    }
   ],
   "source": [
    "spam[:2]"
   ]
  },
  {
   "cell_type": "markdown",
   "id": "fd22909e-4d9f-44f3-8ba1-cf9a3daad66f",
   "metadata": {},
   "source": [
    "Let&#39;s pretend bacon has the list [3.14, &#39;cat,&#39; 11, &#39;cat,&#39; True] for the next three questions."
   ]
  },
  {
   "cell_type": "markdown",
   "id": "beba3b1e-af97-47a6-b95f-0a693f038bfe",
   "metadata": {},
   "source": [
    "6. What is the value of bacon.index(&#39;cat&#39;)?"
   ]
  },
  {
   "cell_type": "code",
   "execution_count": 16,
   "id": "60f5c24b-f382-44c0-bd31-ae4ebca14d51",
   "metadata": {},
   "outputs": [
    {
     "data": {
      "text/plain": [
       "1"
      ]
     },
     "execution_count": 16,
     "metadata": {},
     "output_type": "execute_result"
    }
   ],
   "source": [
    "bacon = [3.14, 'cat', 11, 'cat,', True]\n",
    "bacon.index('cat')"
   ]
  },
  {
   "cell_type": "markdown",
   "id": "bce0c850-6b13-4a04-95f4-065f01556ffe",
   "metadata": {},
   "source": [
    "7. How does bacon.append(99) change the look of the list value in bacon?"
   ]
  },
  {
   "cell_type": "code",
   "execution_count": 30,
   "id": "c09f39b4-fc3f-4ab4-81bd-dc345f686fcd",
   "metadata": {},
   "outputs": [
    {
     "data": {
      "text/plain": [
       "[3.14, 'cat', 11, 'cat,', True, 99]"
      ]
     },
     "execution_count": 30,
     "metadata": {},
     "output_type": "execute_result"
    }
   ],
   "source": [
    "bacon.append(99)\n",
    "bacon"
   ]
  },
  {
   "cell_type": "markdown",
   "id": "aa3b2219-924c-4c99-a718-a5c774db86f1",
   "metadata": {},
   "source": [
    "8. How does bacon.remove(&#39;cat&#39;) change the look of the list in bacon?"
   ]
  },
  {
   "cell_type": "code",
   "execution_count": 39,
   "id": "eae32edf-aecc-4cf6-ab59-29cd339e892e",
   "metadata": {},
   "outputs": [
    {
     "data": {
      "text/plain": [
       "[3.14, 11, 'cat', True]"
      ]
     },
     "execution_count": 39,
     "metadata": {},
     "output_type": "execute_result"
    }
   ],
   "source": [
    "bacon = [3.14, 'cat', 11, 'cat', True]\n",
    "bacon.remove('cat') # remove first occurrence of item\n",
    "bacon"
   ]
  },
  {
   "cell_type": "markdown",
   "id": "70662223-80fb-4d2d-bd4e-0ee0d6633175",
   "metadata": {},
   "source": [
    "9. What are the list concatenation and list replication operators?"
   ]
  },
  {
   "cell_type": "markdown",
   "id": "ea4fffae-d604-42b2-b776-4c112e12c7bb",
   "metadata": {},
   "source": [
    "The operator for list concatenation is +, while the operator for replication is *. (This is the same as for strings.)"
   ]
  },
  {
   "cell_type": "markdown",
   "id": "345bfb1d-0cf4-448d-9405-11dda9ffa63e",
   "metadata": {},
   "source": [
    "10. What is difference between the list methods append() and insert()?"
   ]
  },
  {
   "cell_type": "markdown",
   "id": "c9d41533-10c0-44cf-84e5-4115ccad6d90",
   "metadata": {},
   "source": [
    "The difference between the two methods is that . append() adds an item to the end of a list, whereas . insert() inserts and item in a specified position in the list."
   ]
  },
  {
   "cell_type": "markdown",
   "id": "a9ac5e76-38bd-4ebf-a46c-2adad30d54ba",
   "metadata": {},
   "source": [
    "11. What are the two methods for removing items from a list?"
   ]
  },
  {
   "cell_type": "markdown",
   "id": "0e4ddb07-b7d2-4284-8cd0-dbfb327aa61c",
   "metadata": {},
   "source": [
    "There are three ways in which you can Remove elements from List:\n",
    "- Using the remove() method.\n",
    "- Using the list object's pop() method.\n",
    "- Using the del operator.\n",
    "- The clear() method will remove all the elements present in the list."
   ]
  },
  {
   "cell_type": "markdown",
   "id": "a328015d-264b-4d2b-856d-41335a7bef84",
   "metadata": {},
   "source": [
    "12. Describe how list values and string values are identical."
   ]
  },
  {
   "cell_type": "markdown",
   "id": "2d3a44d2-3569-4f58-b2f8-e7fd929f2dbe",
   "metadata": {},
   "source": [
    "- Similarity: Both strings and lists have lengths: a string's length is the number of characters in the string; a list's length is the number of items in the list. Each character in a string as well as each item in a list has a position, also called an index. The similarity between Lists and Strings in Python is that both are sequences.Can be concatenated or replicated. Can be used with the in and not in operators. They can be used in for loops.\n",
    "- Difference: The differences between them are that firstly, Lists are mutable but Strings are immutable. Secondly, elements of a list can be of different types whereas a String only contains characters that are all of String type."
   ]
  },
  {
   "cell_type": "markdown",
   "id": "582c0520-cd40-4fdb-b8f7-f23f9ec7ebbb",
   "metadata": {},
   "source": [
    "13. What&#39;s the difference between tuples and lists?"
   ]
  },
  {
   "cell_type": "markdown",
   "id": "0584b455-a961-4444-9d56-b3a08044aa96",
   "metadata": {},
   "source": [
    "The primary difference between tuples and lists is that tuples are immutable as opposed to lists which are mutable. Therefore, it is possible to change a list but not a tuple."
   ]
  },
  {
   "cell_type": "markdown",
   "id": "a08adbb5-b2c4-4458-8976-67d66bb80016",
   "metadata": {},
   "source": [
    "14. How do you type a tuple value that only contains the integer 42?"
   ]
  },
  {
   "cell_type": "markdown",
   "id": "f2b2aee1-b6fa-4660-9177-e5eb07cb73da",
   "metadata": {},
   "source": [
    "Tuples are written using parentheses. The comma is mandatory for it to be considered as a tuple. Otherwise, it takes as an int"
   ]
  },
  {
   "cell_type": "code",
   "execution_count": 41,
   "id": "98b576ea-8166-472d-b14a-619dc69cb991",
   "metadata": {},
   "outputs": [
    {
     "data": {
      "text/plain": [
       "tuple"
      ]
     },
     "execution_count": 41,
     "metadata": {},
     "output_type": "execute_result"
    }
   ],
   "source": [
    "a = (42,)\n",
    "type(a)"
   ]
  },
  {
   "cell_type": "markdown",
   "id": "72243872-9dfa-40d6-b0a4-5dc997960d17",
   "metadata": {},
   "source": [
    "15. How do you get a list value&#39;s tuple form? How do you get a tuple value&#39;s list form?"
   ]
  },
  {
   "cell_type": "raw",
   "id": "13e08533-7ef2-4b16-bf7e-bb9e90f7030f",
   "metadata": {},
   "source": [
    "An iterable can be passed as an input to the tuple () function, which will convert it to a tuple object. If you want to convert a Python list to a tuple, you can use the tuple() function to pass the full list as an argument, and it will return the tuple data type as an output."
   ]
  },
  {
   "cell_type": "code",
   "execution_count": 42,
   "id": "d3df7bc1-d195-4135-a376-61c86e26d58c",
   "metadata": {},
   "outputs": [
    {
     "data": {
      "text/plain": [
       "(1, 2, 3, 4)"
      ]
     },
     "execution_count": 42,
     "metadata": {},
     "output_type": "execute_result"
    }
   ],
   "source": [
    "\n",
    "list1 = [1,2,3,4]\n",
    "l = tuple(list1)\n",
    "l\n"
   ]
  },
  {
   "cell_type": "code",
   "execution_count": 43,
   "id": "0f52e9ff-5128-42fb-b344-453664ceec7f",
   "metadata": {},
   "outputs": [
    {
     "data": {
      "text/plain": [
       "[5, 6, 7, 8]"
      ]
     },
     "execution_count": 43,
     "metadata": {},
     "output_type": "execute_result"
    }
   ],
   "source": [
    "tuple1 = (5,6,7,8)\n",
    "t = list(tuple1)\n",
    "t"
   ]
  },
  {
   "cell_type": "markdown",
   "id": "1186c9a9-a194-4323-b6af-075a434c1e25",
   "metadata": {},
   "source": [
    "16. Variables that &quot;contain&quot; list values are not necessarily lists themselves. Instead, what do they\n",
    "contain?"
   ]
  },
  {
   "cell_type": "markdown",
   "id": "633ae636-2533-4450-ae93-d369f676cc45",
   "metadata": {},
   "source": [
    "It turns out that list variables don't actually contain lists themselves. Instead, they contain something called a reference to a list values."
   ]
  },
  {
   "cell_type": "markdown",
   "id": "9dd8927b-9982-417b-b18c-930a5e52062f",
   "metadata": {},
   "source": [
    "17. How do you distinguish between copy.copy() and copy.deepcopy()?"
   ]
  },
  {
   "cell_type": "markdown",
   "id": "64805c07-5e05-461a-a058-7721911e071f",
   "metadata": {},
   "source": [
    "In order to make these copies, we use the copy module. The copy() returns a shallow copy of the list, and deepcopy() returns a deep copy of the list. Both have the same value but have different IDs."
   ]
  },
  {
   "cell_type": "code",
   "execution_count": null,
   "id": "b7921f8a-7be8-4385-bbe5-7e76f717ce97",
   "metadata": {},
   "outputs": [],
   "source": []
  }
 ],
 "metadata": {
  "kernelspec": {
   "display_name": "Python 3 (ipykernel)",
   "language": "python",
   "name": "python3"
  },
  "language_info": {
   "codemirror_mode": {
    "name": "ipython",
    "version": 3
   },
   "file_extension": ".py",
   "mimetype": "text/x-python",
   "name": "python",
   "nbconvert_exporter": "python",
   "pygments_lexer": "ipython3",
   "version": "3.10.6"
  }
 },
 "nbformat": 4,
 "nbformat_minor": 5
}
