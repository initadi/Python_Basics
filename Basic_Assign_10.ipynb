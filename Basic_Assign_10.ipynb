{
 "cells": [
  {
   "cell_type": "markdown",
   "id": "a12efa18-a1f5-4ed4-abaf-ac6af77e3c78",
   "metadata": {},
   "source": [
    "1. How do you distinguish between shutil.copy() and shutil.copytree()?"
   ]
  },
  {
   "cell_type": "markdown",
   "id": "612f0b4a-46b7-4444-a9c8-36bd6faa9b0b",
   "metadata": {},
   "source": [
    "While shutil. copy() will copy a single file, shutil. copytree() will copy an entire folder and every folder and file contained in it.\n",
    "- In addition, there is a shutilcopy2() method, which  is used to copy the content of source file to destination file or directory. This method is identical to shutil. copy() method but it also try to preserves the file's metadata. Source must represent a file but destination can be a file or a directory."
   ]
  },
  {
   "cell_type": "markdown",
   "id": "e796e57d-bf2c-42f3-bfd6-f313e52cfdd4",
   "metadata": {},
   "source": [
    "2. What function is used to rename files??"
   ]
  },
  {
   "cell_type": "raw",
   "id": "c63abac4-d760-44c0-8741-c7834b430085",
   "metadata": {},
   "source": [
    "The rename() function renames a file or directory.\n",
    "\n",
    "import os\n",
    "os.rename(current_file_name, new_file_name)"
   ]
  },
  {
   "cell_type": "markdown",
   "id": "6e075afa-5126-4fe8-8ec4-1028cefbbba2",
   "metadata": {},
   "source": [
    "3. What is the difference between the delete functions in the send2trash and shutil modules?"
   ]
  },
  {
   "cell_type": "markdown",
   "id": "513716f1-9e25-4d8b-a223-b95b23333b4b",
   "metadata": {},
   "source": [
    "- Using send2trash, we can send files to the Trash or Recycle Bin instead of permanently deleting them\n",
    "- The send2trash functions will move a file or folder to the recycle bin, while shutil functions will permanently delete files and folders."
   ]
  },
  {
   "cell_type": "markdown",
   "id": "255c4402-0964-4c74-87a3-78b46e0e0531",
   "metadata": {},
   "source": [
    "4.ZipFile objects have a close() method just like File objects’ close() method. What ZipFile method is\n",
    "equivalent to File objects’ open() method?"
   ]
  },
  {
   "cell_type": "markdown",
   "id": "db4e9e66-5ff8-40a1-9f65-dd1c82b3aef5",
   "metadata": {},
   "source": [
    "The zipfile.ZipFile() function is equivalent to the open() function; the first argument is the filename, and the second argument is the mode to open the ZIP file in (read, write, or append)."
   ]
  },
  {
   "cell_type": "markdown",
   "id": "fc148b6c-0633-43f9-8d36-c558e25f082c",
   "metadata": {},
   "source": [
    "5. Create a programme that searches a folder tree for files with a certain file extension (such as .pdf\n",
    "or .jpg). Copy these files from whatever location they are in to a new folder."
   ]
  },
  {
   "cell_type": "code",
   "execution_count": 5,
   "id": "10d3ca07-bf0d-4fe4-b426-9f45898d7d3b",
   "metadata": {},
   "outputs": [
    {
     "name": "stdout",
     "output_type": "stream",
     "text": [
      "Looking in /home/jovyan/work/Check for files with extensions of .ipynb, .png\n",
      "Coping /home/jovyan/work/Check/Basic_Assign_25.ipynb to /home/jovyan/work/Dest_Folder\n",
      "Coping /home/jovyan/work/Check/.ipynb_checkpoints/Basic_Assign_25-checkpoint.ipynb to /home/jovyan/work/Dest_Folder\n"
     ]
    }
   ],
   "source": [
    "\n",
    "#!/usr/bin/env python3\n",
    "\n",
    "# Write a program that walks through a folder tree \n",
    "# and searches for files with a certain file extension (such as .ipynb or .png).\n",
    "# Copy these files from whatever location they are in to a new folder.\n",
    "\n",
    "import os, shutil\n",
    "\n",
    "def selectiveCopy(folder, extensions, destFolder):\n",
    "\tfolder = os.path.abspath(folder)\n",
    "\tdestFolder = os.path.abspath(destFolder)\n",
    "\tprint('Looking in', folder, 'for files with extensions of', ', '.join(extensions))\n",
    "\tfor foldername, subfolders, filenames in os.walk(folder):\n",
    "\t\tfor filename in filenames:\n",
    "\t\t\tname, extension = os.path.splitext(filename)\n",
    "\t\t\tif extension in extensions:\n",
    "\t\t\t\tfileAbsPath = foldername + os.path.sep + filename\n",
    "\t\t\t\tprint('Coping', fileAbsPath, 'to', destFolder)\n",
    "\t\t\t\tshutil.copy(fileAbsPath, destFolder)\n",
    "\n",
    "extensions = [ '.ipynb', '.png']\n",
    "folder = 'Check'\n",
    "destFolder = 'Dest_Folder'\n",
    "selectiveCopy(folder, extensions, destFolder)"
   ]
  },
  {
   "cell_type": "code",
   "execution_count": 3,
   "id": "a74d8db3-df53-4384-8692-1a1eaa4b222a",
   "metadata": {},
   "outputs": [
    {
     "data": {
      "text/plain": [
       "'/home/jovyan/work'"
      ]
     },
     "execution_count": 3,
     "metadata": {},
     "output_type": "execute_result"
    }
   ],
   "source": [
    "pwd"
   ]
  },
  {
   "cell_type": "code",
   "execution_count": null,
   "id": "0ea253bc-77a7-4909-88b5-808fa086d145",
   "metadata": {},
   "outputs": [],
   "source": []
  }
 ],
 "metadata": {
  "kernelspec": {
   "display_name": "Python 3 (ipykernel)",
   "language": "python",
   "name": "python3"
  },
  "language_info": {
   "codemirror_mode": {
    "name": "ipython",
    "version": 3
   },
   "file_extension": ".py",
   "mimetype": "text/x-python",
   "name": "python",
   "nbconvert_exporter": "python",
   "pygments_lexer": "ipython3",
   "version": "3.10.6"
  }
 },
 "nbformat": 4,
 "nbformat_minor": 5
}
