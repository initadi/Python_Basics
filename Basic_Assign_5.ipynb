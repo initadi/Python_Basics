{
 "cells": [
  {
   "cell_type": "markdown",
   "id": "65a16ef0-ab91-40e1-a08a-cc261116d0fc",
   "metadata": {},
   "source": [
    "1. What does an empty dictionary&#39;s code look like?\n"
   ]
  },
  {
   "cell_type": "markdown",
   "id": "7f97e269-5f33-491c-bf89-a77998b392f4",
   "metadata": {},
   "source": [
    "It is represented as {}."
   ]
  },
  {
   "cell_type": "code",
   "execution_count": 1,
   "id": "c8005936-2ff9-4944-9b45-e057050d31e7",
   "metadata": {},
   "outputs": [
    {
     "data": {
      "text/plain": [
       "dict"
      ]
     },
     "execution_count": 1,
     "metadata": {},
     "output_type": "execute_result"
    }
   ],
   "source": [
    "a = {}\n",
    "type(a)"
   ]
  },
  {
   "cell_type": "markdown",
   "id": "6aa2a22b-39fc-4e52-8742-24a0df06edca",
   "metadata": {},
   "source": [
    "2. What is the value of a dictionary value with the key &#39;foo&#39; and the value 42?"
   ]
  },
  {
   "cell_type": "code",
   "execution_count": 4,
   "id": "ac86dfd1-7ccf-46d9-af5e-11e5b24d588d",
   "metadata": {},
   "outputs": [
    {
     "data": {
      "text/plain": [
       "dict_values([42])"
      ]
     },
     "execution_count": 4,
     "metadata": {},
     "output_type": "execute_result"
    }
   ],
   "source": [
    "a ={'foo':42}\n",
    "a.values()"
   ]
  },
  {
   "cell_type": "markdown",
   "id": "d67c3fd9-c70d-472c-b6aa-4c462b4a562f",
   "metadata": {},
   "source": [
    "3. What is the most significant distinction between a dictionary and a list?"
   ]
  },
  {
   "cell_type": "code",
   "execution_count": 9,
   "id": "114650c2-daf7-4ebb-bb36-2318bb3394b3",
   "metadata": {},
   "outputs": [
    {
     "name": "stdout",
     "output_type": "stream",
     "text": [
      "232\n",
      "88\n"
     ]
    }
   ],
   "source": [
    "import sys\n",
    "dict1 = {'foo':42, 'boo': 23, 'soo':67}\n",
    "list = [42, 23,67]\n",
    "d=sys.getsizeof(dict1)\n",
    "l = sys.getsizeof(list)\n",
    "print(d)\n",
    "print(l)"
   ]
  },
  {
   "cell_type": "markdown",
   "id": "32eacc91-932c-4f9c-b3b8-783bf535f030",
   "metadata": {},
   "source": [
    "- A list is an ordered collection indexed by position and allowing duplicates, a dictionary is an unordered collection of unique key pairs.\n",
    "- The memory taken by dictionary is more than list\n",
    "- The dictionary are fast to accesss in case of large number of entries\n",
    "Source: https://towardsdatascience.com/faster-lookups-in-python-1d7503e9cd38"
   ]
  },
  {
   "cell_type": "markdown",
   "id": "1a374136-ac99-4a86-9ba0-3d86c0e6ccd8",
   "metadata": {},
   "source": [
    "4. What happens if you try to access spam[&#39;foo&#39;] if spam is {&#39;bar&#39;: 100}?"
   ]
  },
  {
   "cell_type": "code",
   "execution_count": 15,
   "id": "dd4f7ed8-9233-4483-8ecf-ceef22152633",
   "metadata": {},
   "outputs": [
    {
     "ename": "KeyError",
     "evalue": "'foo'",
     "output_type": "error",
     "traceback": [
      "\u001b[0;31m---------------------------------------------------------------------------\u001b[0m",
      "\u001b[0;31mKeyError\u001b[0m                                  Traceback (most recent call last)",
      "Cell \u001b[0;32mIn [15], line 2\u001b[0m\n\u001b[1;32m      1\u001b[0m spam \u001b[38;5;241m=\u001b[39m{\u001b[38;5;124m'\u001b[39m\u001b[38;5;124mbar\u001b[39m\u001b[38;5;124m'\u001b[39m:\u001b[38;5;241m42\u001b[39m}\n\u001b[0;32m----> 2\u001b[0m \u001b[43mspam\u001b[49m\u001b[43m[\u001b[49m\u001b[38;5;124;43m'\u001b[39;49m\u001b[38;5;124;43mfoo\u001b[39;49m\u001b[38;5;124;43m'\u001b[39;49m\u001b[43m]\u001b[49m\n",
      "\u001b[0;31mKeyError\u001b[0m: 'foo'"
     ]
    }
   ],
   "source": [
    "#Key Error. It gives key error as the key isnt present\n",
    "spam ={'bar':42}\n",
    "spam['foo']\n",
    "#spam['bar']"
   ]
  },
  {
   "cell_type": "markdown",
   "id": "b43fcc0f-6ea0-4d51-b06a-d05c5dfe744e",
   "metadata": {},
   "source": [
    "5. If a dictionary is stored in spam, what is the difference between the expressions &#39;cat&#39; in spam and\n",
    "&#39;cat&#39; in spam.keys()?"
   ]
  },
  {
   "cell_type": "markdown",
   "id": "c2d65546-7871-4344-83cb-73cdb6df47b6",
   "metadata": {},
   "source": [
    "There is no difference. The in operator checks whether a value exists as a key in the dictionary. 'cat' in spam checks whether there is a 'cat' key in the dictionary, while 'cat' in spam. keys() checks whether there is a value 'cat' for one of the keys in spam ."
   ]
  },
  {
   "cell_type": "code",
   "execution_count": 7,
   "id": "15f0880e-6f4a-4900-a66a-6a0b7d44f1e3",
   "metadata": {},
   "outputs": [
    {
     "data": {
      "text/plain": [
       "True"
      ]
     },
     "execution_count": 7,
     "metadata": {},
     "output_type": "execute_result"
    }
   ],
   "source": [
    "spam ={'cat':42}\n",
    "'cat' in spam"
   ]
  },
  {
   "cell_type": "code",
   "execution_count": 8,
   "id": "fc05c1cb-4dd3-4b3e-8f70-bd333a5923df",
   "metadata": {},
   "outputs": [
    {
     "data": {
      "text/plain": [
       "True"
      ]
     },
     "execution_count": 8,
     "metadata": {},
     "output_type": "execute_result"
    }
   ],
   "source": [
    "'cat' in spam.keys()"
   ]
  },
  {
   "cell_type": "markdown",
   "id": "04f1ee1b-29f1-4f9e-accc-a32431b257e5",
   "metadata": {},
   "source": [
    "6. If a dictionary is stored in spam, what is the difference between the expressions &#39;cat&#39; in spam and\n",
    "&#39;cat&#39; in spam.values()?"
   ]
  },
  {
   "cell_type": "markdown",
   "id": "da3835f3-3bee-4aa4-99f9-23f2577da3ec",
   "metadata": {},
   "source": [
    "'cat' in spam checks whether there is a 'cat' key in the dictionary\n",
    "'cat' in spam.values() checks whether there is a value 'cat' for one of the keys in spam.If not present it will return false. Its a tool to check the presence.\n",
    "     "
   ]
  },
  {
   "cell_type": "code",
   "execution_count": 9,
   "id": "63ce163a-8dda-46e8-9da4-e0fca15e6b52",
   "metadata": {},
   "outputs": [
    {
     "data": {
      "text/plain": [
       "True"
      ]
     },
     "execution_count": 9,
     "metadata": {},
     "output_type": "execute_result"
    }
   ],
   "source": [
    "spam ={'cat':42}\n",
    "'cat' in spam"
   ]
  },
  {
   "cell_type": "code",
   "execution_count": 10,
   "id": "aa88aa4d-bc36-44cd-91b6-cd9269b98e31",
   "metadata": {},
   "outputs": [
    {
     "data": {
      "text/plain": [
       "False"
      ]
     },
     "execution_count": 10,
     "metadata": {},
     "output_type": "execute_result"
    }
   ],
   "source": [
    "spam ={'cat':42}\n",
    "'cat' in spam.values()     "
   ]
  },
  {
   "cell_type": "markdown",
   "id": "be7949e2-e8c1-4f16-a6ec-277e5eff5f02",
   "metadata": {},
   "source": [
    "7. What is a shortcut for the following code?\n",
    "if &#39;color&#39; not in spam:\n",
    "spam[&#39;color&#39;] = &#39;black&#39;"
   ]
  },
  {
   "cell_type": "code",
   "execution_count": 11,
   "id": "2301d02d-0b1f-4d94-84d8-b5680092b2bb",
   "metadata": {},
   "outputs": [
    {
     "data": {
      "text/plain": [
       "True"
      ]
     },
     "execution_count": 11,
     "metadata": {},
     "output_type": "execute_result"
    }
   ],
   "source": [
    "spam = {'color':'brown'}\n",
    "# 'color' in spam['color'] = 'black'\n",
    "spam['color'] != 'black'"
   ]
  },
  {
   "cell_type": "markdown",
   "id": "20ea54ab-343f-4355-8631-de795ddf2140",
   "metadata": {},
   "source": [
    "8. How do you &quot;pretty print&quot; dictionary values using which module and function?"
   ]
  },
  {
   "cell_type": "markdown",
   "id": "10a17534-995d-4533-8b33-752a254f2ddb",
   "metadata": {},
   "source": [
    "The module used is the pprint module within which we have the pprint function of the same name. The function can be implemented to pretty-print the specific string or object. You first need to declare an array of dictionaries after which you can implement the pprint function to pretty print that string or object."
   ]
  },
  {
   "cell_type": "code",
   "execution_count": 20,
   "id": "1362292d-52f2-4732-a435-fc82adf18313",
   "metadata": {},
   "outputs": [
    {
     "data": {
      "text/plain": [
       "True"
      ]
     },
     "execution_count": 20,
     "metadata": {},
     "output_type": "execute_result"
    }
   ],
   "source": [
    "import pprint\n",
    "dict2 = [ {'Movie': '3 Idiots', 'Type': 'Bollywood', 'Actor': 'Amir Khan'},\n",
    "  {'Movie': 'The God Father', 'Type': 'Hollywood', 'Actor': 'Al Pacino'},\n",
    "  {'Movie': 'Chichore', 'Type': 'Bollywood', 'Actor': 'Shraddha Kapoor'},\n",
    " {'Movie': 'Titantic', 'Type': 'Hollywood', 'Actor': 'Kate Winslet'}\n",
    "]\n",
    "pprint.isreadable(dict2)  "
   ]
  },
  {
   "cell_type": "code",
   "execution_count": 17,
   "id": "71735d02-6aa3-403b-a0c1-5d4ae7611fb0",
   "metadata": {},
   "outputs": [
    {
     "name": "stdout",
     "output_type": "stream",
     "text": [
      "[{'Actor': 'Amir Khan', 'Movie': '3 Idiots', 'Type': 'Bollywood'},\n",
      " {'Actor': 'Al Pacino', 'Movie': 'The God Father', 'Type': 'Hollywood'},\n",
      " {'Actor': 'Shraddha Kapoor', 'Movie': 'Chichore', 'Type': 'Bollywood'},\n",
      " {'Actor': 'Kate Winslet', 'Movie': 'Titantic', 'Type': 'Hollywood'}]\n"
     ]
    }
   ],
   "source": [
    "# printing with pprint()\n",
    "pprint.pprint(dict2)"
   ]
  },
  {
   "cell_type": "code",
   "execution_count": 19,
   "id": "0ae57706-86fb-497a-a032-1087618f595c",
   "metadata": {},
   "outputs": [
    {
     "name": "stdout",
     "output_type": "stream",
     "text": [
      "[{'Movie': '3 Idiots', 'Type': 'Bollywood', 'Actor': 'Amir Khan'}, {'Movie': 'The God Father', 'Type': 'Hollywood', 'Actor': 'Al Pacino'}, {'Movie': 'Chichore', 'Type': 'Bollywood', 'Actor': 'Shraddha Kapoor'}, {'Movie': 'Titantic', 'Type': 'Hollywood', 'Actor': 'Kate Winslet'}]\n"
     ]
    }
   ],
   "source": [
    "#Printing with print()\n",
    "print(dict2)\n",
    "     "
   ]
  },
  {
   "cell_type": "code",
   "execution_count": null,
   "id": "ca5ac0f5-85b1-4718-99ee-815d767aaac3",
   "metadata": {},
   "outputs": [],
   "source": []
  }
 ],
 "metadata": {
  "kernelspec": {
   "display_name": "Python 3 (ipykernel)",
   "language": "python",
   "name": "python3"
  },
  "language_info": {
   "codemirror_mode": {
    "name": "ipython",
    "version": 3
   },
   "file_extension": ".py",
   "mimetype": "text/x-python",
   "name": "python",
   "nbconvert_exporter": "python",
   "pygments_lexer": "ipython3",
   "version": "3.10.6"
  }
 },
 "nbformat": 4,
 "nbformat_minor": 5
}
