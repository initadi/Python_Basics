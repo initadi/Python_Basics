{
 "cells": [
  {
   "cell_type": "markdown",
   "id": "114c3574-1aa3-453f-81e4-1ada80ff42cd",
   "metadata": {},
   "source": [
    "## Basic-Assignment 3"
   ]
  },
  {
   "cell_type": "markdown",
   "id": "6863ec4c-de7f-485d-b753-324f1118b3e0",
   "metadata": {},
   "source": [
    " 1. Why are functions advantageous to have in your programs?"
   ]
  },
  {
   "cell_type": "markdown",
   "id": "f177aa19-a678-49cc-acc6-ecfbe4850495",
   "metadata": {},
   "source": [
    "The use of functions makes a program more readable. It's frequently difficult to read a large program. Breaking the code down into smaller functions keeps the program structured, understandable, and reusable. The function can be reused countless times after it is defined.\n",
    "\n",
    "Source: https://www.quora.com/What-are-the-advantages-of-using-functions-within-a-program-and-why-are-parameters-and-return-values-so-important\n",
    "\n",
    "Analogy:\n",
    "How would you feel if each time you came home, your house was gone and you had to build a new one?\n",
    "\n",
    "Just as a house, a function is reusable. It saves your day by having a single solution for a repeating problem so you don’t have to do the same work over and over again.\n",
    "\n",
    "What good would a house be without any doors and windows?\n",
    "\n",
    "Just as a house has doors and windows, function has parameters through which things can get in. Without them, a function would be empty and useless.\n",
    "\n",
    "How would you feel if the house only had a door through which you could enter, but never exit?\n",
    "\n",
    "Return values are exactly that. Whatever happens inside a function has to come out somewhere. It is called “function result” for a reason."
   ]
  },
  {
   "cell_type": "markdown",
   "id": "df0faa1e-6948-4c70-87ba-2c8133623880",
   "metadata": {},
   "source": [
    "2. When does the code in a function run: when it&#39;s specified or when it&#39;s called?"
   ]
  },
  {
   "cell_type": "markdown",
   "id": "714c3c47-71a3-4254-a875-a83d6e53f69e",
   "metadata": {},
   "source": [
    "The code inside the function is not run when it is specified or defined. It runs or executes when it is called."
   ]
  },
  {
   "cell_type": "markdown",
   "id": "55427f07-e398-4c1b-ae08-d6dcb91e7559",
   "metadata": {},
   "source": [
    "3. What statement creates a function?"
   ]
  },
  {
   "cell_type": "markdown",
   "id": "5a635d94-6c12-45c9-988c-c833d187f119",
   "metadata": {},
   "source": [
    "To create a function, we must first declare it and give it a name.\n",
    "For eg. In python:\n",
    "The “def” keyword is a statement for defining a function in Python. You start a function with the def keyword, specify a name followed by a colon (:) sign. The “def” call creates the function object and assigns it to the name given. You can further re-assign the same function object to other names."
   ]
  },
  {
   "cell_type": "markdown",
   "id": "968f414a-4f8e-4440-be8f-d22e40d967bf",
   "metadata": {},
   "source": [
    "4. What is the difference between a function and a function call?"
   ]
  },
  {
   "cell_type": "markdown",
   "id": "81351557-21cd-424c-bf72-7685d7017460",
   "metadata": {},
   "source": [
    "A function is a block of code that performs a specific task, while a function call is an expression that invokes a function and executes the code in the function."
   ]
  },
  {
   "cell_type": "markdown",
   "id": "b5f34e0f-3f2b-44b3-baec-e76a03a538ca",
   "metadata": {},
   "source": [
    "5. How many global scopes are there in a Python program? How many local scopes?"
   ]
  },
  {
   "cell_type": "markdown",
   "id": "630d1451-f156-4e2b-b11a-b7def4de6b62",
   "metadata": {},
   "source": [
    "There is only one global scope per python program and remains there untill program is terminated.\n",
    "\n",
    "On the other hand, there can be as many local scopes as you in side a program because variable crearted inside a function can only be used in that space."
   ]
  },
  {
   "cell_type": "markdown",
   "id": "f7bca444-8e1d-442f-8823-e46bd0fd4c53",
   "metadata": {},
   "source": [
    "6. What happens to variables in a local scope when the function call returns?"
   ]
  },
  {
   "cell_type": "markdown",
   "id": "89909981-0c19-4145-9282-466d17c5ca2c",
   "metadata": {},
   "source": [
    "When a function call returns, the variables defined in its local scope are no longer accessible and their memory is released by the program. However, if a variable is defined as a global variable, it will retain its value even after the function call returns. Additionally, if a variable from the local scope is passed as an argument to another function, its value may be retained in that function's scope."
   ]
  },
  {
   "cell_type": "markdown",
   "id": "a5b2b27c-99e2-4033-a122-8b59afbb04e1",
   "metadata": {},
   "source": [
    "7. What is the concept of a return value? Is it possible to have a return value in an expression?"
   ]
  },
  {
   "cell_type": "markdown",
   "id": "b69e0336-c87a-451a-a9db-bba541a58ad8",
   "metadata": {},
   "source": [
    "A return is a value that a function returns to the calling script or function when it completes its task. \n",
    "A value-returning function should include a return statement, containing an expression. If an expression is not given on a return statement in a function declared with a non- void return type, the compiler issues a warning message."
   ]
  },
  {
   "cell_type": "markdown",
   "id": "742d8c35-74ad-45b4-8906-0cf7d405d96f",
   "metadata": {},
   "source": [
    "8. If a function does not have a return statement, what is the return value of a call to that function?"
   ]
  },
  {
   "cell_type": "markdown",
   "id": "ee115c48-5615-4ba5-a062-c581123b8ba2",
   "metadata": {},
   "source": [
    "Regardless of how long and complex your functions are, any function without an explicit return statement, or one with a return statement without a return value, will return None.\n",
    "Eg If we want to perform any mathematical operation, it will perform the mathematical operation but wont return the value."
   ]
  },
  {
   "cell_type": "markdown",
   "id": "9fff5b93-e19d-4e84-b3d6-0f5da6fc2e18",
   "metadata": {},
   "source": [
    "9. How do you make a function variable refer to the global variable?"
   ]
  },
  {
   "cell_type": "markdown",
   "id": "fc304245-61e9-4824-8bd8-7af30237ac8d",
   "metadata": {},
   "source": [
    "Normally, when you create a variable inside a function, that variable is local, and can only be used inside that function. To create a global variable inside a function, you can use the global keyword."
   ]
  },
  {
   "cell_type": "markdown",
   "id": "c7a55b03-23c1-4409-8d6f-082916bdd875",
   "metadata": {},
   "source": [
    "10. What is the data type of None?"
   ]
  },
  {
   "cell_type": "code",
   "execution_count": 2,
   "id": "a9757c39-c9b2-4e44-91aa-addeb79d9ea9",
   "metadata": {},
   "outputs": [
    {
     "data": {
      "text/plain": [
       "NoneType"
      ]
     },
     "execution_count": 2,
     "metadata": {},
     "output_type": "execute_result"
    }
   ],
   "source": [
    "type(None)"
   ]
  },
  {
   "cell_type": "markdown",
   "id": "7b75aff7-d078-4b59-a002-55672fbb9612",
   "metadata": {},
   "source": [
    "The None keyword is used to define a null variable or an object. In Python, None keyword is an object, and it is a data type of the class NoneType . We can assign None to any variable, but you can not create other NoneType objects. Note: All variables that are assigned None point to the same object."
   ]
  },
  {
   "cell_type": "markdown",
   "id": "f582672c-5b48-4478-87a7-017d3d0ff053",
   "metadata": {},
   "source": [
    "11. What does the sentence import areallyourpetsnamederic do?"
   ]
  },
  {
   "cell_type": "code",
   "execution_count": 3,
   "id": "396eb370-7314-47ed-ba6b-f43ad9fe8e96",
   "metadata": {},
   "outputs": [
    {
     "ename": "ModuleNotFoundError",
     "evalue": "No module named 'areallyourpetsnamederic'",
     "output_type": "error",
     "traceback": [
      "\u001b[0;31m---------------------------------------------------------------------------\u001b[0m",
      "\u001b[0;31mModuleNotFoundError\u001b[0m                       Traceback (most recent call last)",
      "Cell \u001b[0;32mIn [3], line 1\u001b[0m\n\u001b[0;32m----> 1\u001b[0m \u001b[38;5;28;01mimport\u001b[39;00m \u001b[38;5;21;01mareallyourpetsnamederic\u001b[39;00m\n",
      "\u001b[0;31mModuleNotFoundError\u001b[0m: No module named 'areallyourpetsnamederic'"
     ]
    }
   ],
   "source": [
    "import areallyourpetsnamederict"
   ]
  },
  {
   "cell_type": "markdown",
   "id": "e1edc2d6-d61c-4b74-8c78-2a98777946ab",
   "metadata": {},
   "source": [
    "It will import the areallyourpetsnamederict module. But here the 'areallyourpetsnamederict' module does not exist."
   ]
  },
  {
   "cell_type": "markdown",
   "id": "b64057c6-b543-4c6b-a439-de028ec564c3",
   "metadata": {},
   "source": [
    "12. If you had a bacon() feature in a spam module, what would you call it after importing spam?"
   ]
  },
  {
   "cell_type": "markdown",
   "id": "bc679712-afec-483f-810b-05a5e3ec84b1",
   "metadata": {},
   "source": [
    "This function can be called with spam.bacon()."
   ]
  },
  {
   "cell_type": "markdown",
   "id": "8bff19f6-324d-4530-aa13-103eb35d0a70",
   "metadata": {},
   "source": [
    "13. What can you do to save a programme from crashing if it encounters an error?"
   ]
  },
  {
   "cell_type": "markdown",
   "id": "74604b03-b317-48b2-81a5-e9bd5acd5359",
   "metadata": {},
   "source": [
    "It's important to handle exceptions properly in your code using try-except blocks or other error-handling techniques, in order to gracefully handle errors and prevent the program from crashing."
   ]
  },
  {
   "cell_type": "markdown",
   "id": "78746630-0655-45ba-b2c5-01cb5cb58bcf",
   "metadata": {},
   "source": [
    "14. What is the purpose of the try clause? What is the purpose of the except clause?"
   ]
  },
  {
   "cell_type": "markdown",
   "id": "1cdfaec5-7f5c-4c72-8316-b6b0d31c4849",
   "metadata": {},
   "source": [
    "The try block lets you test a block of code for errors. The except block lets you handle the error. The else block lets you execute code when there is no error. The finally block lets you execute code, regardless of the result of the try- and except blocks."
   ]
  },
  {
   "cell_type": "code",
   "execution_count": null,
   "id": "e31e6aff-2b31-4918-8af0-41b5a495b039",
   "metadata": {},
   "outputs": [],
   "source": []
  }
 ],
 "metadata": {
  "kernelspec": {
   "display_name": "Python 3 (ipykernel)",
   "language": "python",
   "name": "python3"
  },
  "language_info": {
   "codemirror_mode": {
    "name": "ipython",
    "version": 3
   },
   "file_extension": ".py",
   "mimetype": "text/x-python",
   "name": "python",
   "nbconvert_exporter": "python",
   "pygments_lexer": "ipython3",
   "version": "3.10.6"
  }
 },
 "nbformat": 4,
 "nbformat_minor": 5
}
